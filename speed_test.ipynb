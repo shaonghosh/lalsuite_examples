{
 "cells": [
  {
   "cell_type": "code",
   "execution_count": 1,
   "id": "37d189b8",
   "metadata": {},
   "outputs": [],
   "source": [
    "import time\n",
    "from numba import jit\n",
    "import numpy as np\n",
    "import matplotlib.pyplot as plt"
   ]
  },
  {
   "cell_type": "markdown",
   "id": "2989de42",
   "metadata": {},
   "source": [
    "### Speed test between pure Python, Numpy, and Numba acceleration:\n",
    "In this exercise we are going to test the speed of simple prime number counting functions written in pure Python, Numpy, and pure Python code accelerated using Numba. The user can supply the range over which the prime numbers will be searched, using two arguments `start` and `end`. A driver funtion will then be used to run these functions an arbitrary number of times. In each iteration the amount of time taken by the codes is computed, and the run times are then plotted as bar-graphs.\n",
    "\n",
    "#### packages needed: `Numpy`, `Matplotlib`, and  `Numba`"
   ]
  },
  {
   "cell_type": "code",
   "execution_count": 2,
   "id": "7788ebd3",
   "metadata": {},
   "outputs": [],
   "source": [
    "def calculatePrimes(start, end):\n",
    "    \"\"\"This function finds out how many prime number exist between <start> and <end>\n",
    "    INPUT:\n",
    "    ------\n",
    "    start = starting value (INT)\n",
    "    end = Ending value (INT)\n",
    "    \n",
    "    RETURNS:\n",
    "    --------\n",
    "    total number of primes between <start> and <end> (INT)\n",
    "    \"\"\"\n",
    "    primes = []\n",
    "    for test_number in range(start, end+1):\n",
    "        count = 0 # keeps track of how many times a number is exactly divisble by an integer\n",
    "        for divisor in range(2, test_number):\n",
    "            if test_number/divisor == int(test_number/divisor):\n",
    "                count += 1\n",
    "        if count == 0:\n",
    "            primes.append(test_number)\n",
    "    return len(primes)"
   ]
  },
  {
   "cell_type": "markdown",
   "id": "db4e053e",
   "metadata": {},
   "source": [
    "Now, we will accelerate this above funtion using Numba. This is simply done by decorating the function using Numba's `jit` compiler. The rest of the function stays unchanged."
   ]
  },
  {
   "cell_type": "code",
   "execution_count": 3,
   "id": "3d55bc21",
   "metadata": {},
   "outputs": [],
   "source": [
    "@jit(nopython=True)\n",
    "def calculatePrimes_numba(start, end):\n",
    "    \"\"\"This function finds out how many prime number exist between <start> and <end>\n",
    "    using Numba acceleration\n",
    "    INPUT:\n",
    "    ------\n",
    "    start = starting value (INT)\n",
    "    end = Ending value (INT)\n",
    "    \n",
    "    RETURNS:\n",
    "    --------\n",
    "    total number of primes between <start> and <end> (INT)\n",
    "    \"\"\"\n",
    "    primes = []\n",
    "    for test_number in range(start, end+1):\n",
    "        count = 0 # keeps track of how many times a number is exactly divisble by an integer\n",
    "        for divisor in range(2, test_number):\n",
    "            if test_number/divisor == int(test_number/divisor):\n",
    "                count += 1\n",
    "        if count == 0:\n",
    "            primes.append(test_number)\n",
    "    return len(primes)"
   ]
  },
  {
   "cell_type": "markdown",
   "id": "5518a2bd",
   "metadata": {},
   "source": [
    "Finally, we will do the same operation using Numpy. This requies a completely different way of writing the code. We will be using Numpy meshgrid to construct a matrix in which all possible divisions of all the numbers from `start` to `end` are going to be computed. Then we will find how many of these divisions are whole numbers. If a number if prime, only two such divisions will be whole numbers, once when it is divided by `1` and then when it is divided by itself. Thus, if the number of case where the result of the division is a whole number if more than 2 it can't be a prime number."
   ]
  },
  {
   "cell_type": "code",
   "execution_count": 4,
   "id": "0a1b2e22",
   "metadata": {},
   "outputs": [],
   "source": [
    "def calculatePrimes_numpy(start, end):\n",
    "    \"\"\"This function finds out how many prime numbers exist between <start> and <end>\n",
    "    using Numpy arrays.\n",
    "    INPUT:\n",
    "    ------\n",
    "    start = starting value (INT)\n",
    "    end = Ending value (INT)\n",
    "    \n",
    "    RETURNS:\n",
    "    --------\n",
    "    total number of primes between <start> and <end> (INT)\n",
    "    \"\"\"\n",
    "    x = np.arange(start, end+1)\n",
    "    y = np.arange(1, end)\n",
    "    X, Y = np.meshgrid(x, y)\n",
    "    Z = X/Y\n",
    "    matrix = Z.astype(int) == Z\n",
    "    return np.sum(np.sum(matrix, axis=0) <= 2)"
   ]
  },
  {
   "cell_type": "markdown",
   "id": "1b5d689d",
   "metadata": {},
   "source": [
    "Now we will write a wrapper function that will be run these above functions using their required arguments. This function will have the ability to run above functions any arbitrary number of times, and then it will generate a plot with the run-times. Additionally, it will also return the mean and median run-time for running each function."
   ]
  },
  {
   "cell_type": "code",
   "execution_count": 5,
   "id": "3ada3764",
   "metadata": {},
   "outputs": [],
   "source": [
    "def speedtest(func, N, *args, log=False, **kwargs):\n",
    "    \"\"\"This function accepts as argument a function, and its arguments, and runs it \n",
    "    an arbitrary number of times. It times the run in each iteration, and creates a\n",
    "    plot of the run-time of every iteration. \n",
    "    \n",
    "    INPUT:\n",
    "    ------\n",
    "    func: The function for which we intend to test the speed\n",
    "    N: Number of iterations for which we want to test the speed\n",
    "    log: Set the y-scale to logarithmic [False]\n",
    "    \n",
    "    RETURN:\n",
    "    -------\n",
    "    The mean value and the median value of the run-times (Tuple)\n",
    "    \"\"\"\n",
    "    times = []\n",
    "    for _ in range(N):\n",
    "        start = time.time()\n",
    "        x = func(*args, **kwargs)\n",
    "        end = time.time()\n",
    "        times.append(end - start)\n",
    "    plt.rcParams.update({'font.size': 18})\n",
    "    plt.figure(figsize=(12,6))\n",
    "    plt.bar(1+np.arange(N), times)\n",
    "    plt.ylabel(\"Run time (s)\")\n",
    "    plt.xlabel(\"Run #\")\n",
    "    if log:\n",
    "        ax = plt.gca()\n",
    "        ax.set_yscale(\"log\")\n",
    "    plt.show()\n",
    "    return (np.mean(np.array(times)), np.median(np.array(times)))\n",
    "    "
   ]
  },
  {
   "cell_type": "markdown",
   "id": "500a8b03",
   "metadata": {},
   "source": [
    "We will now run all the three functions to compute the prime numbers from 1 to 5000. Each function will be run 200 times."
   ]
  },
  {
   "cell_type": "code",
   "execution_count": 6,
   "id": "5630b8ec",
   "metadata": {},
   "outputs": [
    {
     "data": {
      "image/png": "[encoded data removed]",
      "text/plain": [
       "<Figure size 864x432 with 1 Axes>"
      ]
     },
     "metadata": {
      "needs_background": "light"
     },
     "output_type": "display_data"
    },
    {
     "data": {
      "text/plain": [
       "(1.6560320127010346, 1.6474940776824951)"
      ]
     },
     "execution_count": 6,
     "metadata": {},
     "output_type": "execute_result"
    }
   ],
   "source": [
    "speedtest(calculatePrimes, 200, 1, 5000)"
   ]
  },
  {
   "cell_type": "code",
   "execution_count": 7,
   "id": "f1bd3098",
   "metadata": {},
   "outputs": [
    {
     "data": {
      "image/png": "[encoded data removed]",
      "text/plain": [
       "<Figure size 864x432 with 1 Axes>"
      ]
     },
     "metadata": {
      "needs_background": "light"
     },
     "output_type": "display_data"
    },
    {
     "data": {
      "text/plain": [
       "(0.020235674381256105, 0.01820063591003418)"
      ]
     },
     "execution_count": 7,
     "metadata": {},
     "output_type": "execute_result"
    }
   ],
   "source": [
    "speedtest(calculatePrimes_numba, 200, 1, 5000, log=True)"
   ]
  },
  {
   "cell_type": "code",
   "execution_count": 8,
   "id": "ae215830",
   "metadata": {},
   "outputs": [
    {
     "data": {
      "image/png": "[encoded data removed]",
      "text/plain": [
       "<Figure size 864x432 with 1 Axes>"
      ]
     },
     "metadata": {
      "needs_background": "light"
     },
     "output_type": "display_data"
    },
    {
     "data": {
      "text/plain": [
       "(0.21591884016990662, 0.21355652809143066)"
      ]
     },
     "execution_count": 8,
     "metadata": {},
     "output_type": "execute_result"
    }
   ],
   "source": [
    "speedtest(calculatePrimes_numpy, 200, 1, 5000, log=True)"
   ]
  },
  {
   "cell_type": "markdown",
   "id": "4a53c43e",
   "metadata": {},
   "source": [
    "### Results:\n",
    "We find from the above exercise the mean time taken by the pure python implementation of the code is around 1.66 seonds. Where as application of Numpy reduces this time to 0.22 seconds. This is 7.5 times speedup. Incorporating Numba in the same pure python implementation of the code lowers the mean run time further down to around 0.02 second, i.e., 11 times faster than the Numpy implementation. However, we have to keep in mind that in this implementation the Numpy version is doing a lot of unnecessary computation over a square grid, where as the Numba implementation is looping over only up to the number for which prime number determination is being conducted (a lower-triangle grid). There might be scope for improving the Numpy function.\n",
    "\n",
    "We also need to keep in mind that implemending Numba acceleration is significantly harder for anything that is not a simple for loop in which simple mathematical operation is being conducted. Nevertheless, the performance of Numba is really impressive in this test."
   ]
  },
  {
   "cell_type": "code",
   "execution_count": null,
   "id": "2bd2908b",
   "metadata": {},
   "outputs": [],
   "source": []
  }
 ],
 "metadata": {
  "kernelspec": {
   "display_name": "summer20_backup",
   "language": "python",
   "name": "summer20_backup"
  },
  "language_info": {
   "codemirror_mode": {
    "name": "ipython",
    "version": 3
   },
   "file_extension": ".py",
   "mimetype": "text/x-python",
   "name": "python",
   "nbconvert_exporter": "python",
   "pygments_lexer": "ipython3",
   "version": "3.8.5"
  }
 },
 "nbformat": 4,
 "nbformat_minor": 5
}
